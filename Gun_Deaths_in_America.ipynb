{
 "cells": [
  {
   "cell_type": "markdown",
   "metadata": {
    "collapsed": true
   },
   "source": [
    "## READING THE DATASET"
   ]
  },
  {
   "cell_type": "code",
   "execution_count": null,
   "metadata": {
    "collapsed": false
   },
   "outputs": [],
   "source": [
    "import csv\n",
    "obj = open(\"guns.csv\",'r')\n",
    "data = list(csv.reader(obj))\n",
    "print(data[:5])"
   ]
  },
  {
   "cell_type": "code",
   "execution_count": null,
   "metadata": {
    "collapsed": false
   },
   "outputs": [],
   "source": [
    "headers = data[0]\n",
    "data = data[1:]\n",
    "print(headers)\n",
    "print(data[:5])"
   ]
  },
  {
   "cell_type": "markdown",
   "metadata": {},
   "source": [
    "## Counting number of Gun Deaths by year"
   ]
  },
  {
   "cell_type": "code",
   "execution_count": null,
   "metadata": {
    "collapsed": false
   },
   "outputs": [],
   "source": [
    "years = [row[1] for row in data]\n",
    "year_counts={}\n",
    "for itm in years:\n",
    "    if itm in year_counts:\n",
    "        year_counts[itm] += 1\n",
    "    else:\n",
    "        year_counts[itm] = 1\n",
    "print(year_counts)"
   ]
  },
  {
   "cell_type": "markdown",
   "metadata": {},
   "source": [
    "## Counting number of Gun Deaths by date"
   ]
  },
  {
   "cell_type": "code",
   "execution_count": null,
   "metadata": {
    "collapsed": false
   },
   "outputs": [],
   "source": [
    "import datetime\n",
    "dates = [datetime.datetime(year=int(row[1]), month=int(row[2]), day =1) for row in data]\n",
    "date_counts = {}\n",
    "for itm in dates:\n",
    "    if itm in date_counts:\n",
    "        date_counts[itm] += 1\n",
    "    else:\n",
    "        date_counts[itm] = 1\n",
    "\n",
    "print(date_counts)"
   ]
  },
  {
   "cell_type": "markdown",
   "metadata": {},
   "source": [
    "## Counting number of deaths by sex and race"
   ]
  },
  {
   "cell_type": "code",
   "execution_count": null,
   "metadata": {
    "collapsed": false
   },
   "outputs": [],
   "source": [
    "sexes = [row[5] for row in data]\n",
    "races= [row[7] for row in data]\n",
    "sex_counts = {}\n",
    "race_counts = {}\n",
    "for itm in sexes:\n",
    "    if itm in sex_counts:\n",
    "        sex_counts[itm] +=1\n",
    "    else:\n",
    "        sex_counts[itm] = 1\n",
    "\n",
    "for itm in races:\n",
    "    if itm in race_counts:\n",
    "        race_counts[itm] += 1\n",
    "    else:\n",
    "        race_counts[itm] = 1\n",
    "\n",
    "print(sex_counts)\n",
    "print(race_counts)"
   ]
  },
  {
   "cell_type": "markdown",
   "metadata": {},
   "source": [
    "- **Male deaths are six times more than female deaths in those years**\n",
    "- **Highest number of deaths were in the Black community followed by White and Hispanic**\n",
    "- **Lowest number of deaths correspond to the Native American community**"
   ]
  },
  {
   "cell_type": "markdown",
   "metadata": {},
   "source": [
    "## READING CENSUS DATASET"
   ]
  },
  {
   "cell_type": "code",
   "execution_count": null,
   "metadata": {
    "collapsed": false
   },
   "outputs": [],
   "source": [
    "obj1 = open(\"census.csv\",'r')\n",
    "census = list(csv.reader(obj1))\n",
    "print(census)"
   ]
  },
  {
   "cell_type": "markdown",
   "metadata": {},
   "source": [
    "## Number of death per 100K of the particular race"
   ]
  },
  {
   "cell_type": "code",
   "execution_count": null,
   "metadata": {
    "collapsed": false
   },
   "outputs": [],
   "source": [
    "mapping = {'Native American/Native Alaskan':3739506, 'Hispanic':44618105, 'Asian/Pacific Islander':15834141, 'White':197318956, 'Black': 40250635}\n",
    "race_per_hundredk = {}\n",
    "for key in race_counts:\n",
    "    race_per_hundredk[key] = (race_counts[key]*100000)/mapping[key]\n",
    "\n",
    "print(race_per_hundredk)"
   ]
  },
  {
   "cell_type": "markdown",
   "metadata": {},
   "source": [
    "## Number of deaths by homicide per 100K of the particular race"
   ]
  },
  {
   "cell_type": "code",
   "execution_count": null,
   "metadata": {
    "collapsed": false
   },
   "outputs": [],
   "source": [
    "intents = [row[3] for row in data]\n",
    "homicide_race_per_hundredk = {}\n",
    "for i, itm in enumerate(races):\n",
    "    if intents[i] == \"Homicide\":\n",
    "        if itm in homicide_race_per_hundredk:\n",
    "            homicide_race_per_hundredk[itm] += 1\n",
    "        else:\n",
    "            homicide_race_per_hundredk[itm] = 1\n",
    "print(homicide_race_per_hundredk)"
   ]
  },
  {
   "cell_type": "code",
   "execution_count": null,
   "metadata": {
    "collapsed": false
   },
   "outputs": [],
   "source": [
    "for key in homicide_race_per_hundredk:\n",
    "    homicide_race_per_hundredk[key] = (homicide_race_per_hundredk[key]*100000)/mapping[key]\n",
    "    \n",
    "print(homicide_race_per_hundredk)"
   ]
  },
  {
   "cell_type": "markdown",
   "metadata": {},
   "source": [
    "- **Homicide rates among the black community is extremely high compared to all the other communities**\n",
    "- **Homicide rates in the black community is more than rates in all the other communities combined**\n",
    "- **Second highest homicides rates are in the hispanic community**"
   ]
  },
  {
   "cell_type": "code",
   "execution_count": null,
   "metadata": {
    "collapsed": true
   },
   "outputs": [],
   "source": []
  }
 ],
 "metadata": {
  "kernelspec": {
   "display_name": "Python 3",
   "language": "python",
   "name": "python3"
  },
  "language_info": {
   "codemirror_mode": {
    "name": "ipython",
    "version": 3
   },
   "file_extension": ".py",
   "mimetype": "text/x-python",
   "name": "python",
   "nbconvert_exporter": "python",
   "pygments_lexer": "ipython3",
   "version": "3.6.0"
  }
 },
 "nbformat": 4,
 "nbformat_minor": 0
}
